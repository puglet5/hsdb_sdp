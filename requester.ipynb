{
 "cells": [
  {
   "cell_type": "code",
   "execution_count": 60,
   "metadata": {},
   "outputs": [],
   "source": [
    "import requests\n",
    "from requests_toolbelt.multipart.encoder import MultipartEncoder\n",
    "import json\n",
    "import os\n",
    "import dotenv\n"
   ]
  },
  {
   "cell_type": "code",
   "execution_count": 61,
   "metadata": {},
   "outputs": [],
   "source": [
    "dotenv.load_dotenv()\n",
    "dotenv_file = dotenv.find_dotenv()"
   ]
  },
  {
   "cell_type": "code",
   "execution_count": 44,
   "metadata": {},
   "outputs": [],
   "source": [
    "client_id = \"9Ktnrh0oOvBF0lorlgYamcEim_-BwIuRhwVHbcwXsZo\"\n",
    "email = \"puglet5@mail.ru\"\n",
    "password = \"123456\"\n",
    "url = 'http://localhost:3000'"
   ]
  },
  {
   "cell_type": "code",
   "execution_count": 62,
   "metadata": {},
   "outputs": [
    {
     "name": "stdout",
     "output_type": "stream",
     "text": [
      "{\n",
      "  \"access_token\": \"pA4No9q8ABY_IBW1QLQPHRjDhh-NCjn4Eji9lJ5mzi4\",\n",
      "  \"token_type\": \"Bearer\",\n",
      "  \"expires_in\": 7200,\n",
      "  \"refresh_token\": \"Srm4_etf8FfSfqub1jDGvXUKZVeFoy-mg4E21LZFMc4\",\n",
      "  \"created_at\": 1674897316\n",
      "}\n"
     ]
    },
    {
     "data": {
      "text/plain": [
       "(True, 'REFRESH_TOKEN', 'Srm4_etf8FfSfqub1jDGvXUKZVeFoy-mg4E21LZFMc4')"
      ]
     },
     "execution_count": 62,
     "metadata": {},
     "output_type": "execute_result"
    }
   ],
   "source": [
    "# get auth token\n",
    "\n",
    "form_data = {\n",
    "    'email': email,\n",
    "    \"password\": password,\n",
    "    \"grant_type\": \"password\",\n",
    "    \"client_id\": client_id\n",
    "}\n",
    "\n",
    "server = requests.post(f'{url}{\"/api/oauth/token\"}', data=form_data)\n",
    "output = json.loads(server.text)\n",
    "\n",
    "print(json.dumps(output, indent=2))\n",
    "\n",
    "dotenv.set_key(dotenv_file, \"ACCESS_TOKEN\", output[\"access_token\"])\n",
    "dotenv.set_key(dotenv_file, \"REFRESH_TOKEN\", output[\"refresh_token\"])\n"
   ]
  },
  {
   "cell_type": "code",
   "execution_count": 100,
   "metadata": {},
   "outputs": [
    {
     "data": {
      "text/plain": [
       "200"
      ]
     },
     "execution_count": 100,
     "metadata": {},
     "output_type": "execute_result"
    }
   ],
   "source": [
    "# get samples\n",
    "\n",
    "headers = {'Authorization': f'Bearer {os.getenv(\"ACCESS_TOKEN\")}'}\n",
    "\n",
    "server = requests.get(f'{url}{\"/api/v1/samples\"}', headers=headers)\n",
    "\n",
    "server.status_code\n"
   ]
  },
  {
   "cell_type": "code",
   "execution_count": 102,
   "metadata": {},
   "outputs": [],
   "source": [
    "def post_spectrum(sample_id, file_path):\n",
    "    data = {\n",
    "        \"spectrum[sample_id]\": (None, sample_id),\n",
    "    }\n",
    "\n",
    "    files = {\n",
    "        \"spectrum[file]\": open(file_path, 'rb')\n",
    "    }\n",
    "\n",
    "    headers = {\n",
    "        'Authorization': f'Bearer {os.getenv(\"ACCESS_TOKEN\")}',\n",
    "    }\n",
    "\n",
    "    server = requests.post(f'{url}{\"/api/v1/spectra\"}',\n",
    "                           data=data, headers=headers, files=files)\n",
    "\n",
    "    return [server.status_code, server.text]\n"
   ]
  },
  {
   "cell_type": "code",
   "execution_count": 104,
   "metadata": {},
   "outputs": [
    {
     "data": {
      "text/plain": [
       "[200,\n",
       " '{\"spectrum\":{\"id\":78,\"format\":\"csv\",\"status\":\"raw\",\"category\":\"not_set\",\"range\":\"not_set\",\"metadata\":{},\"file_url\":\"/rails/active_storage/blobs/redirect/eyJfcmFpbHMiOnsibWVzc2FnZSI6IkJBaHBmZz09IiwiZXhwIjpudWxsLCJwdXIiOiJibG9iX2lkIn19--887cb614baae08c41f759aafced98ddb123e64cd/foo.csv\",\"filename\":\"foo.csv\",\"sample\":{\"id\":12,\"title\":\"Ultramarine blue\"}}}']"
      ]
     },
     "execution_count": 104,
     "metadata": {},
     "output_type": "execute_result"
    }
   ],
   "source": [
    "post_spectrum(\"12\", \"/home/puglet5/Documents/Python/foo.csv\")"
   ]
  },
  {
   "cell_type": "code",
   "execution_count": null,
   "metadata": {},
   "outputs": [],
   "source": []
  }
 ],
 "metadata": {
  "kernelspec": {
   "display_name": "Python 3",
   "language": "python",
   "name": "python3"
  },
  "language_info": {
   "codemirror_mode": {
    "name": "ipython",
    "version": 3
   },
   "file_extension": ".py",
   "mimetype": "text/x-python",
   "name": "python",
   "nbconvert_exporter": "python",
   "pygments_lexer": "ipython3",
   "version": "3.10.6 (main, Nov 14 2022, 16:10:14) [GCC 11.3.0]"
  },
  "orig_nbformat": 4,
  "vscode": {
   "interpreter": {
    "hash": "767d51c1340bd893661ea55ea3124f6de3c7a262a8b4abca0554b478b1e2ff90"
   }
  }
 },
 "nbformat": 4,
 "nbformat_minor": 2
}
